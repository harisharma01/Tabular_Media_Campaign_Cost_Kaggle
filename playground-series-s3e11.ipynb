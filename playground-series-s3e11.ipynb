{
 "cells": [
  {
   "cell_type": "code",
   "execution_count": 4,
   "id": "32755196",
   "metadata": {},
   "outputs": [],
   "source": [
    "import pandas as pd\n",
    "import numpy as np\n",
    "import matplotlib.pyplot as plt\n",
    "import seaborn as sns\n",
    "\n",
    "from sklearn.model_selection import train_test_split\n",
    "from sklearn.preprocessing import StandardScaler\n",
    "from sklearn.metrics import r2_score,mean_absolute_error, mean_squared_error,mean_squared_log_error\n",
    "\n",
    "from sklearn.linear_model import LinearRegression\n",
    "from sklearn.tree import DecisionTreeRegressor\n",
    "from sklearn.ensemble import RandomForestRegressor\n",
    "from xgboost import XGBRegressor\n",
    "import optuna\n",
    "\n",
    "import warnings\n",
    "warnings.filterwarnings('ignore')"
   ]
  },
  {
   "cell_type": "code",
   "execution_count": 3,
   "id": "dd096f59",
   "metadata": {},
   "outputs": [
    {
     "data": {
      "text/html": [
       "<div>\n",
       "<style scoped>\n",
       "    .dataframe tbody tr th:only-of-type {\n",
       "        vertical-align: middle;\n",
       "    }\n",
       "\n",
       "    .dataframe tbody tr th {\n",
       "        vertical-align: top;\n",
       "    }\n",
       "\n",
       "    .dataframe thead th {\n",
       "        text-align: right;\n",
       "    }\n",
       "</style>\n",
       "<table border=\"1\" class=\"dataframe\">\n",
       "  <thead>\n",
       "    <tr style=\"text-align: right;\">\n",
       "      <th></th>\n",
       "      <th>store_sales(in millions)</th>\n",
       "      <th>unit_sales(in millions)</th>\n",
       "      <th>total_children</th>\n",
       "      <th>num_children_at_home</th>\n",
       "      <th>avg_cars_at home(approx).1</th>\n",
       "      <th>gross_weight</th>\n",
       "      <th>recyclable_package</th>\n",
       "      <th>low_fat</th>\n",
       "      <th>units_per_case</th>\n",
       "      <th>store_sqft</th>\n",
       "      <th>coffee_bar</th>\n",
       "      <th>video_store</th>\n",
       "      <th>salad_bar</th>\n",
       "      <th>prepared_food</th>\n",
       "      <th>florist</th>\n",
       "      <th>cost</th>\n",
       "    </tr>\n",
       "  </thead>\n",
       "  <tbody>\n",
       "    <tr>\n",
       "      <th>0</th>\n",
       "      <td>8.61</td>\n",
       "      <td>3.0</td>\n",
       "      <td>2.0</td>\n",
       "      <td>2.0</td>\n",
       "      <td>2.0</td>\n",
       "      <td>10.30</td>\n",
       "      <td>1.0</td>\n",
       "      <td>0.0</td>\n",
       "      <td>32.0</td>\n",
       "      <td>36509.0</td>\n",
       "      <td>0.0</td>\n",
       "      <td>0.0</td>\n",
       "      <td>0.0</td>\n",
       "      <td>0.0</td>\n",
       "      <td>0.0</td>\n",
       "      <td>62.09</td>\n",
       "    </tr>\n",
       "    <tr>\n",
       "      <th>1</th>\n",
       "      <td>5.00</td>\n",
       "      <td>2.0</td>\n",
       "      <td>4.0</td>\n",
       "      <td>0.0</td>\n",
       "      <td>3.0</td>\n",
       "      <td>6.66</td>\n",
       "      <td>1.0</td>\n",
       "      <td>0.0</td>\n",
       "      <td>1.0</td>\n",
       "      <td>28206.0</td>\n",
       "      <td>1.0</td>\n",
       "      <td>0.0</td>\n",
       "      <td>0.0</td>\n",
       "      <td>0.0</td>\n",
       "      <td>0.0</td>\n",
       "      <td>121.80</td>\n",
       "    </tr>\n",
       "    <tr>\n",
       "      <th>2</th>\n",
       "      <td>14.08</td>\n",
       "      <td>4.0</td>\n",
       "      <td>0.0</td>\n",
       "      <td>0.0</td>\n",
       "      <td>3.0</td>\n",
       "      <td>21.30</td>\n",
       "      <td>1.0</td>\n",
       "      <td>0.0</td>\n",
       "      <td>26.0</td>\n",
       "      <td>21215.0</td>\n",
       "      <td>1.0</td>\n",
       "      <td>0.0</td>\n",
       "      <td>0.0</td>\n",
       "      <td>0.0</td>\n",
       "      <td>0.0</td>\n",
       "      <td>83.51</td>\n",
       "    </tr>\n",
       "    <tr>\n",
       "      <th>3</th>\n",
       "      <td>4.02</td>\n",
       "      <td>3.0</td>\n",
       "      <td>5.0</td>\n",
       "      <td>0.0</td>\n",
       "      <td>0.0</td>\n",
       "      <td>14.80</td>\n",
       "      <td>0.0</td>\n",
       "      <td>1.0</td>\n",
       "      <td>36.0</td>\n",
       "      <td>21215.0</td>\n",
       "      <td>1.0</td>\n",
       "      <td>0.0</td>\n",
       "      <td>0.0</td>\n",
       "      <td>0.0</td>\n",
       "      <td>0.0</td>\n",
       "      <td>66.78</td>\n",
       "    </tr>\n",
       "    <tr>\n",
       "      <th>4</th>\n",
       "      <td>2.13</td>\n",
       "      <td>3.0</td>\n",
       "      <td>5.0</td>\n",
       "      <td>0.0</td>\n",
       "      <td>3.0</td>\n",
       "      <td>17.00</td>\n",
       "      <td>1.0</td>\n",
       "      <td>1.0</td>\n",
       "      <td>20.0</td>\n",
       "      <td>27694.0</td>\n",
       "      <td>1.0</td>\n",
       "      <td>1.0</td>\n",
       "      <td>1.0</td>\n",
       "      <td>1.0</td>\n",
       "      <td>1.0</td>\n",
       "      <td>111.51</td>\n",
       "    </tr>\n",
       "  </tbody>\n",
       "</table>\n",
       "</div>"
      ],
      "text/plain": [
       "   store_sales(in millions)  unit_sales(in millions)  total_children  \\\n",
       "0                      8.61                      3.0             2.0   \n",
       "1                      5.00                      2.0             4.0   \n",
       "2                     14.08                      4.0             0.0   \n",
       "3                      4.02                      3.0             5.0   \n",
       "4                      2.13                      3.0             5.0   \n",
       "\n",
       "   num_children_at_home  avg_cars_at home(approx).1  gross_weight  \\\n",
       "0                   2.0                         2.0         10.30   \n",
       "1                   0.0                         3.0          6.66   \n",
       "2                   0.0                         3.0         21.30   \n",
       "3                   0.0                         0.0         14.80   \n",
       "4                   0.0                         3.0         17.00   \n",
       "\n",
       "   recyclable_package  low_fat  units_per_case  store_sqft  coffee_bar  \\\n",
       "0                 1.0      0.0            32.0     36509.0         0.0   \n",
       "1                 1.0      0.0             1.0     28206.0         1.0   \n",
       "2                 1.0      0.0            26.0     21215.0         1.0   \n",
       "3                 0.0      1.0            36.0     21215.0         1.0   \n",
       "4                 1.0      1.0            20.0     27694.0         1.0   \n",
       "\n",
       "   video_store  salad_bar  prepared_food  florist    cost  \n",
       "0          0.0        0.0            0.0      0.0   62.09  \n",
       "1          0.0        0.0            0.0      0.0  121.80  \n",
       "2          0.0        0.0            0.0      0.0   83.51  \n",
       "3          0.0        0.0            0.0      0.0   66.78  \n",
       "4          1.0        1.0            1.0      1.0  111.51  "
      ]
     },
     "execution_count": 3,
     "metadata": {},
     "output_type": "execute_result"
    }
   ],
   "source": [
    "df = pd.read_csv(r\"D:\\Data Science\\kaggle competitions\\playground series season 3 episode 11\\playground-series-s3e11\\train.csv\")\n",
    "df_test = pd.read_csv(r\"D:\\Data Science\\kaggle competitions\\playground series season 3 episode 11\\playground-series-s3e11\\test.csv\")\n",
    "sample = pd.read_csv(r\"D:\\Data Science\\kaggle competitions\\playground series season 3 episode 11\\playground-series-s3e11\\sample_submission.csv\")\n",
    "df = df.drop(columns = ['id'])\n",
    "df_test = df_test.drop(columns = ['id'])\n",
    "df.head()"
   ]
  },
  {
   "cell_type": "markdown",
   "id": "231f6c8f",
   "metadata": {},
   "source": [
    "|Features | Description|\n",
    "|--------|----------|\n",
    "Store_sales (in millions) | Store sales in millions dollars \n",
    "Unit_sales (in millions) | Unit_sales in millions in store\n",
    "Total_children | Childeren in home \n",
    "avg_cars_at home(approx) | Avarage cars at home \n",
    "Gross_weight | Gross weight of items\n",
    "Recyclable_package | Food items is in recylable package \n",
    "Low_fat | Food items is low fat \n",
    "Units_per_case | Case units available in each store shelves \n",
    "Store_sqft | Store area available in SQFT\n",
    "Coffee_bar | Coffee bar available in store \n",
    "Video_store | Video store available in store \n",
    "Salad_bar | Salad bar available in store\n",
    "Prepared_food | Food prepared available in store \n",
    "Florist | Flower shelves available in store "
   ]
  },
  {
   "cell_type": "code",
   "execution_count": 4,
   "id": "85c1312e",
   "metadata": {},
   "outputs": [
    {
     "name": "stdout",
     "output_type": "stream",
     "text": [
      "<class 'pandas.core.frame.DataFrame'>\n",
      "RangeIndex: 360336 entries, 0 to 360335\n",
      "Data columns (total 16 columns):\n",
      " #   Column                      Non-Null Count   Dtype  \n",
      "---  ------                      --------------   -----  \n",
      " 0   store_sales(in millions)    360336 non-null  float64\n",
      " 1   unit_sales(in millions)     360336 non-null  float64\n",
      " 2   total_children              360336 non-null  float64\n",
      " 3   num_children_at_home        360336 non-null  float64\n",
      " 4   avg_cars_at home(approx).1  360336 non-null  float64\n",
      " 5   gross_weight                360336 non-null  float64\n",
      " 6   recyclable_package          360336 non-null  float64\n",
      " 7   low_fat                     360336 non-null  float64\n",
      " 8   units_per_case              360336 non-null  float64\n",
      " 9   store_sqft                  360336 non-null  float64\n",
      " 10  coffee_bar                  360336 non-null  float64\n",
      " 11  video_store                 360336 non-null  float64\n",
      " 12  salad_bar                   360336 non-null  float64\n",
      " 13  prepared_food               360336 non-null  float64\n",
      " 14  florist                     360336 non-null  float64\n",
      " 15  cost                        360336 non-null  float64\n",
      "dtypes: float64(16)\n",
      "memory usage: 44.0 MB\n"
     ]
    }
   ],
   "source": [
    "df.info()"
   ]
  },
  {
   "cell_type": "code",
   "execution_count": 5,
   "id": "c2118751",
   "metadata": {},
   "outputs": [
    {
     "data": {
      "text/plain": [
       "store_sales(in millions)      1044\n",
       "unit_sales(in millions)          6\n",
       "total_children                   6\n",
       "num_children_at_home             6\n",
       "avg_cars_at home(approx).1       5\n",
       "gross_weight                   384\n",
       "recyclable_package               2\n",
       "low_fat                          2\n",
       "units_per_case                  36\n",
       "store_sqft                      20\n",
       "coffee_bar                       2\n",
       "video_store                      2\n",
       "salad_bar                        2\n",
       "prepared_food                    2\n",
       "florist                          2\n",
       "cost                           328\n",
       "dtype: int64"
      ]
     },
     "execution_count": 5,
     "metadata": {},
     "output_type": "execute_result"
    }
   ],
   "source": [
    "df.nunique()"
   ]
  },
  {
   "cell_type": "code",
   "execution_count": 6,
   "id": "0429c784",
   "metadata": {},
   "outputs": [
    {
     "data": {
      "image/png": "[encoded data removed]",
      "text/plain": [
       "<Figure size 800x600 with 2 Axes>"
      ]
     },
     "metadata": {},
     "output_type": "display_data"
    }
   ],
   "source": [
    "matrix= df.corr()\n",
    "k=   sns.diverging_palette(220, 20, n=25, center=\"dark\", as_cmap=False, s=500, l=70)\n",
    "\n",
    "plt.figure(figsize = (8,6))\n",
    "\n",
    "mask = np.triu(np.ones_like(matrix, dtype=bool))\n",
    "\n",
    "sns.heatmap(matrix, \n",
    "            vmin=-1.0, vmax = 1.0, \n",
    "            linewidths = 0.5,\n",
    "            square= True,\n",
    "            annot= True,\n",
    "            mask =mask,\n",
    "            annot_kws= {'size': 'x-small'},\n",
    "            fmt = '0.2f', \n",
    "            cmap=k,\n",
    "            center = 0)\n",
    "plt.show()"
   ]
  },
  {
   "cell_type": "markdown",
   "id": "2b925b63",
   "metadata": {},
   "source": [
    "Inference: \n",
    "* Prepared food and salad bar have 1 correlation, means every salad bar comes from the store where food is prepared. Since both the columns have same value, we will remove one of them.\n",
    "* Video store, florist, salad_bar, and prepared food are highly correlated with each other, meaning features become highly dependent, therefore I will choose only 1 from them.\n",
    "* Store_sqft i.e area of the store has good correlatipn with prepared_food meaning stores where food is prepared need are more spacious. \n"
   ]
  },
  {
   "cell_type": "code",
   "execution_count": 7,
   "id": "af3452d2",
   "metadata": {},
   "outputs": [],
   "source": [
    "df = df.drop(columns = ['salad_bar','video_store','florist'])\n",
    "df_test = df_test.drop(columns = ['salad_bar','video_store','florist'])"
   ]
  },
  {
   "cell_type": "markdown",
   "id": "595dc7ce",
   "metadata": {},
   "source": [
    "### Modeling"
   ]
  },
  {
   "cell_type": "code",
   "execution_count": 9,
   "id": "0cf572b0",
   "metadata": {},
   "outputs": [],
   "source": [
    "features = df.drop(columns = 'cost')\n",
    "target = df.cost"
   ]
  },
  {
   "cell_type": "code",
   "execution_count": 10,
   "id": "d38ca859",
   "metadata": {},
   "outputs": [],
   "source": [
    "X_train, X_test, y_train, y_test = train_test_split(features, target, test_size = 0.3, random_state = 0)"
   ]
  },
  {
   "cell_type": "code",
   "execution_count": 11,
   "id": "52020e44",
   "metadata": {},
   "outputs": [],
   "source": [
    "ss =StandardScaler()\n",
    "X_train = ss.fit_transform(X_train)\n",
    "X_test = ss.transform(X_test)"
   ]
  },
  {
   "cell_type": "code",
   "execution_count": 12,
   "id": "d91f0f06",
   "metadata": {},
   "outputs": [],
   "source": [
    "def model_validation(y_test, y_pred):\n",
    "    print(f\"r2_score :{r2_score(y_test,y_pred)}\")\n",
    "    print(f\"mean absolute error :{mean_absolute_error(y_test, y_pred)}\")\n",
    "    print(f\"root mean squared log error :{np.sqrt(mean_squared_log_error(y_test, y_pred))}\")\n",
    "    print(f\"root mean squared error :{np.sqrt(mean_squared_error(y_test, y_pred))}\")\n",
    "    \n",
    "    return np.sqrt(mean_squared_log_error(y_test, y_pred))"
   ]
  },
  {
   "cell_type": "markdown",
   "id": "8a61af8b",
   "metadata": {},
   "source": [
    "### Linear Regression"
   ]
  },
  {
   "cell_type": "code",
   "execution_count": 14,
   "id": "0cbd0ad7",
   "metadata": {},
   "outputs": [],
   "source": [
    "lr = LinearRegression()\n",
    "lr.fit(X_train, y_train)\n",
    "y_pred = lr.predict(X_test)"
   ]
  },
  {
   "cell_type": "code",
   "execution_count": 15,
   "id": "712e341c",
   "metadata": {
    "scrolled": true
   },
   "outputs": [
    {
     "name": "stdout",
     "output_type": "stream",
     "text": [
      "r2_score :0.011652892679545834\n",
      "mean absolute error :25.69623709800065\n",
      "root mean squared log error :0.31844362330783144\n",
      "root mean squared error :29.76208120893452\n"
     ]
    }
   ],
   "source": [
    "lr_rmsle = model_validation(y_test, y_pred)"
   ]
  },
  {
   "cell_type": "markdown",
   "id": "6a09d456",
   "metadata": {},
   "source": [
    "### Decision Tree Regressor"
   ]
  },
  {
   "cell_type": "code",
   "execution_count": 16,
   "id": "903b527c",
   "metadata": {},
   "outputs": [],
   "source": [
    "dtr = DecisionTreeRegressor()\n",
    "dtr.fit(X_train, y_train)\n",
    "y_pred = dtr.predict(X_test)"
   ]
  },
  {
   "cell_type": "code",
   "execution_count": 17,
   "id": "83719471",
   "metadata": {
    "scrolled": true
   },
   "outputs": [
    {
     "name": "stdout",
     "output_type": "stream",
     "text": [
      "r2_score :-0.7721098444478338\n",
      "mean absolute error :30.276906134078317\n",
      "root mean squared log error :0.4212014596189348\n",
      "root mean squared error :39.85234384112521\n"
     ]
    }
   ],
   "source": [
    "dtr_rmsle = model_validation(y_test, y_pred)"
   ]
  },
  {
   "cell_type": "markdown",
   "id": "c734d596",
   "metadata": {},
   "source": [
    "The error is very high using Decision Tree"
   ]
  },
  {
   "cell_type": "markdown",
   "id": "bcecd465",
   "metadata": {},
   "source": [
    "### Random Forest Regressor"
   ]
  },
  {
   "cell_type": "code",
   "execution_count": 19,
   "id": "260ccf44",
   "metadata": {},
   "outputs": [],
   "source": [
    "rfr = RandomForestRegressor()\n",
    "rfr.fit(X_train, y_train)\n",
    "y_pred = rfr.predict(X_test)"
   ]
  },
  {
   "cell_type": "code",
   "execution_count": 20,
   "id": "a34d2b1b",
   "metadata": {
    "scrolled": true
   },
   "outputs": [
    {
     "name": "stdout",
     "output_type": "stream",
     "text": [
      "r2_score :0.049624865572053256\n",
      "mean absolute error :24.37775641871623\n",
      "root mean squared log error :0.31011320120961805\n",
      "root mean squared error :29.184757031047422\n"
     ]
    }
   ],
   "source": [
    "rf_rmsle = model_validation(y_test, y_pred)"
   ]
  },
  {
   "cell_type": "markdown",
   "id": "fe8920d8",
   "metadata": {},
   "source": [
    "Although, the error has reduced using RandomForest as compared to DecisionTree and Linear Regression but still very high."
   ]
  },
  {
   "cell_type": "code",
   "execution_count": 21,
   "id": "ab5f793a",
   "metadata": {
    "scrolled": false
   },
   "outputs": [
    {
     "data": {
      "image/png": "[encoded data removed]",
      "text/plain": [
       "<Figure size 640x480 with 1 Axes>"
      ]
     },
     "metadata": {},
     "output_type": "display_data"
    }
   ],
   "source": [
    "imp = rfr.feature_importances_\n",
    "imp = pd.DataFrame(imp.T, columns = ['importance'],index=features.columns ).sort_values(by='importance', ascending = False)\n",
    "pal = sns.color_palette(\"mako\", len(imp))\n",
    "sns.barplot(data = imp, y= imp.index, x='importance', palette = pal)\n",
    "plt.show()"
   ]
  },
  {
   "cell_type": "markdown",
   "id": "ddb6f9f2",
   "metadata": {},
   "source": [
    "### XGBoost"
   ]
  },
  {
   "cell_type": "code",
   "execution_count": 23,
   "id": "32e2b7d1",
   "metadata": {},
   "outputs": [],
   "source": [
    "xgb_model = XGBRegressor()\n",
    "xgb_model.fit(X_train,y_train)\n",
    "y_pred= xgb_model.predict(X_test)"
   ]
  },
  {
   "cell_type": "code",
   "execution_count": 24,
   "id": "13612b72",
   "metadata": {
    "scrolled": true
   },
   "outputs": [
    {
     "name": "stdout",
     "output_type": "stream",
     "text": [
      "r2_score :0.09866094005836856\n",
      "mean absolute error :24.28123516814819\n",
      "root mean squared log error :0.3037177630902229\n",
      "root mean squared error :28.421869793500132\n"
     ]
    }
   ],
   "source": [
    "xgb_normal = model_validation(y_test, y_pred)"
   ]
  },
  {
   "cell_type": "code",
   "execution_count": 26,
   "id": "eb98d181",
   "metadata": {},
   "outputs": [],
   "source": [
    "def best_params(trial):\n",
    "    params = {\n",
    "        'objective': 'reg:squaredlogerror',\n",
    "        'eval_metric':'rmsle',\n",
    "        'learning_rate': trial.suggest_float('learning_rate',0.01,1),\n",
    "        'n_estimators': trial.suggest_int('n_estimators',100,1000),\n",
    "        'max_depth': trial.suggest_int('max_depth', 3,12),\n",
    "        'subsample': trial.suggest_float('subsample',0.6,0.95,step = 0.05),\n",
    "        'colsample_bytree': trial.suggest_float('colsample_bytree',0.1,1,step = 0.1),\n",
    "        'gamma': trial.suggest_float('gamma',0.1,1)\n",
    "    }\n",
    "    \n",
    "    model = XGBRegressor(**params)\n",
    "    \n",
    "    model.fit(X_train,y_train)\n",
    "    y_pred= model.predict(X_test)\n",
    "    \n",
    "    rmsle = np.sqrt(mean_squared_log_error(y_test, y_pred))\n",
    "    \n",
    "    return rmsle"
   ]
  },
  {
   "cell_type": "code",
   "execution_count": 43,
   "id": "29a9cf55",
   "metadata": {
    "scrolled": false
   },
   "outputs": [],
   "source": [
    "# study = optuna.create_study(direction = 'minimize')\n",
    "# study.optimize(best_params, n_trials = 1000)\n",
    "# best_params = study.best_params"
   ]
  },
  {
   "cell_type": "code",
   "execution_count": 40,
   "id": "f0bdc12a",
   "metadata": {
    "scrolled": true
   },
   "outputs": [],
   "source": [
    "best_params = {'learning_rate': 0.8457197375240337, \n",
    "               'n_estimators': 967, 'max_depth': 12, \n",
    "               'subsample': 0.95, 'colsample_bytree': 1.0, \n",
    "               'gamma': 0.1498116820644617}"
   ]
  },
  {
   "cell_type": "code",
   "execution_count": 57,
   "id": "fe68644d",
   "metadata": {},
   "outputs": [],
   "source": [
    "xgb_model_optuna = XGBRegressor(**best_params)\n",
    "xgb_model.fit(X_train,y_train)\n",
    "y_pred= xgb_model.predict(X_test)"
   ]
  },
  {
   "cell_type": "code",
   "execution_count": 58,
   "id": "4cd57e74",
   "metadata": {
    "scrolled": true
   },
   "outputs": [
    {
     "name": "stdout",
     "output_type": "stream",
     "text": [
      "r2_score :0.09866094005836856\n",
      "mean absolute error :24.28123516814819\n",
      "root mean squared log error :0.3037177630902229\n",
      "root mean squared error :28.421869793500132\n"
     ]
    }
   ],
   "source": [
    "xgb_optuna_rmsle = model_validation(y_test, y_pred)"
   ]
  },
  {
   "cell_type": "code",
   "execution_count": 59,
   "id": "5dfd5a9f",
   "metadata": {
    "scrolled": true
   },
   "outputs": [
    {
     "data": {
      "text/html": [
       "<div>\n",
       "<style scoped>\n",
       "    .dataframe tbody tr th:only-of-type {\n",
       "        vertical-align: middle;\n",
       "    }\n",
       "\n",
       "    .dataframe tbody tr th {\n",
       "        vertical-align: top;\n",
       "    }\n",
       "\n",
       "    .dataframe thead th {\n",
       "        text-align: right;\n",
       "    }\n",
       "</style>\n",
       "<table border=\"1\" class=\"dataframe\">\n",
       "  <thead>\n",
       "    <tr style=\"text-align: right;\">\n",
       "      <th></th>\n",
       "      <th>Root Mean Squared Log Error</th>\n",
       "    </tr>\n",
       "  </thead>\n",
       "  <tbody>\n",
       "    <tr>\n",
       "      <th>XGB default</th>\n",
       "      <td>0.303718</td>\n",
       "    </tr>\n",
       "    <tr>\n",
       "      <th>XGB with Optuna</th>\n",
       "      <td>0.303718</td>\n",
       "    </tr>\n",
       "    <tr>\n",
       "      <th>Random Forest</th>\n",
       "      <td>0.310113</td>\n",
       "    </tr>\n",
       "    <tr>\n",
       "      <th>Linear Regression</th>\n",
       "      <td>0.318444</td>\n",
       "    </tr>\n",
       "    <tr>\n",
       "      <th>Decision Tree</th>\n",
       "      <td>0.421201</td>\n",
       "    </tr>\n",
       "  </tbody>\n",
       "</table>\n",
       "</div>"
      ],
      "text/plain": [
       "                    Root Mean Squared Log Error\n",
       "XGB default                            0.303718\n",
       "XGB with Optuna                        0.303718\n",
       "Random Forest                          0.310113\n",
       "Linear Regression                      0.318444\n",
       "Decision Tree                          0.421201"
      ]
     },
     "execution_count": 59,
     "metadata": {},
     "output_type": "execute_result"
    }
   ],
   "source": [
    "rmsle_li = {'Linear Regression ':lr_rmsle,\n",
    "           'Decision Tree': dtr_rmsle,\n",
    "           'Random Forest': rf_rmsle,\n",
    "           'XGB default': xgb_normal,\n",
    "           'XGB with Optuna': xgb_optuna_rmsle}\n",
    "\n",
    "values = list(rmsle_li.values())\n",
    "keys = list(rmsle_li.keys())\n",
    "column = ['Root Mean Squared Log Error']\n",
    "pd.DataFrame(values, index= keys, columns = column).sort_values('Root Mean Squared Log Error')"
   ]
  },
  {
   "cell_type": "markdown",
   "id": "762fca1b",
   "metadata": {},
   "source": [
    "##### XG Boost is a widely used and powerful library, and when combined with hyperparameter tuning using tools like Optuna, it becomes even more effective. Despite its capabilities, in this particular case, I encountered the same error when using XG Boost with default parameters and after tuning hyperparameters with Optuna. It is possible that the error can be further reduced by performing more advanced feature engineering and fine-tuning additional parameters using Optuna. However, for the time being, I am accepting with the error value of 0.303718."
   ]
  },
  {
   "cell_type": "code",
   "execution_count": 61,
   "id": "6824824f",
   "metadata": {
    "collapsed": true
   },
   "outputs": [
    {
     "name": "stderr",
     "output_type": "stream",
     "text": [
      "C:\\Users\\hp\\AppData\\Roaming\\Python\\Python39\\site-packages\\sklearn\\base.py:409: UserWarning:\n",
      "\n",
      "X does not have valid feature names, but StandardScaler was fitted with feature names\n",
      "\n"
     ]
    }
   ],
   "source": [
    "ss_ = StandardScaler()\n",
    "ss_.fit_transform(features)\n",
    "df_test = ss_.transform(df_test)"
   ]
  },
  {
   "cell_type": "code",
   "execution_count": 62,
   "id": "128f4857",
   "metadata": {},
   "outputs": [],
   "source": [
    "clf = XGBRegressor(**best_params)\n",
    "clf.fit(features, target)\n",
    "y_pred =clf.predict(df_test)"
   ]
  },
  {
   "cell_type": "markdown",
   "id": "ac1c2a05",
   "metadata": {},
   "source": [
    "### Submission"
   ]
  },
  {
   "cell_type": "code",
   "execution_count": 65,
   "id": "a5f96542",
   "metadata": {},
   "outputs": [],
   "source": [
    "preds = sample\n",
    "preds['cost'] = y_pred"
   ]
  },
  {
   "cell_type": "code",
   "execution_count": 66,
   "id": "d5250055",
   "metadata": {},
   "outputs": [
    {
     "data": {
      "text/html": [
       "<div>\n",
       "<style scoped>\n",
       "    .dataframe tbody tr th:only-of-type {\n",
       "        vertical-align: middle;\n",
       "    }\n",
       "\n",
       "    .dataframe tbody tr th {\n",
       "        vertical-align: top;\n",
       "    }\n",
       "\n",
       "    .dataframe thead th {\n",
       "        text-align: right;\n",
       "    }\n",
       "</style>\n",
       "<table border=\"1\" class=\"dataframe\">\n",
       "  <thead>\n",
       "    <tr style=\"text-align: right;\">\n",
       "      <th></th>\n",
       "      <th>id</th>\n",
       "      <th>cost</th>\n",
       "    </tr>\n",
       "  </thead>\n",
       "  <tbody>\n",
       "    <tr>\n",
       "      <th>0</th>\n",
       "      <td>360336</td>\n",
       "      <td>215.313919</td>\n",
       "    </tr>\n",
       "    <tr>\n",
       "      <th>1</th>\n",
       "      <td>360337</td>\n",
       "      <td>136.852661</td>\n",
       "    </tr>\n",
       "    <tr>\n",
       "      <th>2</th>\n",
       "      <td>360338</td>\n",
       "      <td>202.550415</td>\n",
       "    </tr>\n",
       "    <tr>\n",
       "      <th>3</th>\n",
       "      <td>360339</td>\n",
       "      <td>136.852661</td>\n",
       "    </tr>\n",
       "    <tr>\n",
       "      <th>4</th>\n",
       "      <td>360340</td>\n",
       "      <td>136.852661</td>\n",
       "    </tr>\n",
       "  </tbody>\n",
       "</table>\n",
       "</div>"
      ],
      "text/plain": [
       "       id        cost\n",
       "0  360336  215.313919\n",
       "1  360337  136.852661\n",
       "2  360338  202.550415\n",
       "3  360339  136.852661\n",
       "4  360340  136.852661"
      ]
     },
     "execution_count": 66,
     "metadata": {},
     "output_type": "execute_result"
    }
   ],
   "source": [
    "preds.head()"
   ]
  },
  {
   "cell_type": "code",
   "execution_count": 72,
   "id": "97363fc7",
   "metadata": {},
   "outputs": [
    {
     "data": {
      "text/plain": [
       "(240224, 2)"
      ]
     },
     "execution_count": 72,
     "metadata": {},
     "output_type": "execute_result"
    }
   ],
   "source": [
    "preds.shape"
   ]
  },
  {
   "cell_type": "code",
   "execution_count": 73,
   "id": "9664a0a9",
   "metadata": {},
   "outputs": [],
   "source": [
    "preds.to_csv('D:\\Data Science\\kaggle competitions\\playground series season 3 episode 11\\submission.csv', index = False)"
   ]
  }
 ],
 "metadata": {
  "kernelspec": {
   "display_name": "Python 3 (ipykernel)",
   "language": "python",
   "name": "python3"
  },
  "language_info": {
   "codemirror_mode": {
    "name": "ipython",
    "version": 3
   },
   "file_extension": ".py",
   "mimetype": "text/x-python",
   "name": "python",
   "nbconvert_exporter": "python",
   "pygments_lexer": "ipython3",
   "version": "3.9.13"
  }
 },
 "nbformat": 4,
 "nbformat_minor": 5
}
